{
  "nbformat": 4,
  "nbformat_minor": 0,
  "metadata": {
    "colab": {
      "provenance": [],
      "mount_file_id": "1eYD3S5D9iq24BFSMQ7h27cgnVLtbzmoN",
      "authorship_tag": "ABX9TyNzzaNQ1HoDxrOayALenVEM",
      "include_colab_link": true
    },
    "kernelspec": {
      "name": "python3",
      "display_name": "Python 3"
    },
    "language_info": {
      "name": "python"
    }
  },
  "cells": [
    {
      "cell_type": "markdown",
      "metadata": {
        "id": "view-in-github",
        "colab_type": "text"
      },
      "source": [
        "<a href=\"https://colab.research.google.com/github/SVNitinSV/Inventory_projection/blob/main/LSTM_025051001_prediction.ipynb\" target=\"_parent\"><img src=\"https://colab.research.google.com/assets/colab-badge.svg\" alt=\"Open In Colab\"/></a>"
      ]
    },
    {
      "cell_type": "code",
      "execution_count": 1,
      "metadata": {
        "id": "7k0L24dH_6Ik"
      },
      "outputs": [],
      "source": [
        "import pandas as pd\n",
        "import numpy as np\n",
        "import matplotlib.pyplot as plt"
      ]
    },
    {
      "cell_type": "code",
      "source": [
        "df = pd.read_csv('/content/drive/MyDrive/Colab Notebooks/Tek_clover_Inventory_projection/025051001_ML_Outbound_Tek_clover_temporal - Sheet1.csv',index_col='Transaction Date'   ,parse_dates=True,dayfirst=True)\n"
      ],
      "metadata": {
        "id": "Z9qXhPwKBOme"
      },
      "execution_count": 2,
      "outputs": []
    },
    {
      "cell_type": "code",
      "source": [
        "df.head()\n"
      ],
      "metadata": {
        "colab": {
          "base_uri": "https://localhost:8080/",
          "height": 238
        },
        "id": "4SSWiTuRBpWC",
        "outputId": "9147a285-f187-4775-ae7e-65969e6cb682"
      },
      "execution_count": 3,
      "outputs": [
        {
          "output_type": "execute_result",
          "data": {
            "text/plain": [
              "                     Qty\n",
              "Transaction Date        \n",
              "2023-06-27 14:42:54   18\n",
              "2023-06-29 10:22:06   12\n",
              "2023-06-29 14:42:16   16\n",
              "2023-07-04 16:02:13   48\n",
              "2023-07-04 21:23:03   20"
            ],
            "text/html": [
              "\n",
              "  <div id=\"df-05184557-e982-4e44-87f1-240e5d99d4fd\" class=\"colab-df-container\">\n",
              "    <div>\n",
              "<style scoped>\n",
              "    .dataframe tbody tr th:only-of-type {\n",
              "        vertical-align: middle;\n",
              "    }\n",
              "\n",
              "    .dataframe tbody tr th {\n",
              "        vertical-align: top;\n",
              "    }\n",
              "\n",
              "    .dataframe thead th {\n",
              "        text-align: right;\n",
              "    }\n",
              "</style>\n",
              "<table border=\"1\" class=\"dataframe\">\n",
              "  <thead>\n",
              "    <tr style=\"text-align: right;\">\n",
              "      <th></th>\n",
              "      <th>Qty</th>\n",
              "    </tr>\n",
              "    <tr>\n",
              "      <th>Transaction Date</th>\n",
              "      <th></th>\n",
              "    </tr>\n",
              "  </thead>\n",
              "  <tbody>\n",
              "    <tr>\n",
              "      <th>2023-06-27 14:42:54</th>\n",
              "      <td>18</td>\n",
              "    </tr>\n",
              "    <tr>\n",
              "      <th>2023-06-29 10:22:06</th>\n",
              "      <td>12</td>\n",
              "    </tr>\n",
              "    <tr>\n",
              "      <th>2023-06-29 14:42:16</th>\n",
              "      <td>16</td>\n",
              "    </tr>\n",
              "    <tr>\n",
              "      <th>2023-07-04 16:02:13</th>\n",
              "      <td>48</td>\n",
              "    </tr>\n",
              "    <tr>\n",
              "      <th>2023-07-04 21:23:03</th>\n",
              "      <td>20</td>\n",
              "    </tr>\n",
              "  </tbody>\n",
              "</table>\n",
              "</div>\n",
              "    <div class=\"colab-df-buttons\">\n",
              "\n",
              "  <div class=\"colab-df-container\">\n",
              "    <button class=\"colab-df-convert\" onclick=\"convertToInteractive('df-05184557-e982-4e44-87f1-240e5d99d4fd')\"\n",
              "            title=\"Convert this dataframe to an interactive table.\"\n",
              "            style=\"display:none;\">\n",
              "\n",
              "  <svg xmlns=\"http://www.w3.org/2000/svg\" height=\"24px\" viewBox=\"0 -960 960 960\">\n",
              "    <path d=\"M120-120v-720h720v720H120Zm60-500h600v-160H180v160Zm220 220h160v-160H400v160Zm0 220h160v-160H400v160ZM180-400h160v-160H180v160Zm440 0h160v-160H620v160ZM180-180h160v-160H180v160Zm440 0h160v-160H620v160Z\"/>\n",
              "  </svg>\n",
              "    </button>\n",
              "\n",
              "  <style>\n",
              "    .colab-df-container {\n",
              "      display:flex;\n",
              "      gap: 12px;\n",
              "    }\n",
              "\n",
              "    .colab-df-convert {\n",
              "      background-color: #E8F0FE;\n",
              "      border: none;\n",
              "      border-radius: 50%;\n",
              "      cursor: pointer;\n",
              "      display: none;\n",
              "      fill: #1967D2;\n",
              "      height: 32px;\n",
              "      padding: 0 0 0 0;\n",
              "      width: 32px;\n",
              "    }\n",
              "\n",
              "    .colab-df-convert:hover {\n",
              "      background-color: #E2EBFA;\n",
              "      box-shadow: 0px 1px 2px rgba(60, 64, 67, 0.3), 0px 1px 3px 1px rgba(60, 64, 67, 0.15);\n",
              "      fill: #174EA6;\n",
              "    }\n",
              "\n",
              "    .colab-df-buttons div {\n",
              "      margin-bottom: 4px;\n",
              "    }\n",
              "\n",
              "    [theme=dark] .colab-df-convert {\n",
              "      background-color: #3B4455;\n",
              "      fill: #D2E3FC;\n",
              "    }\n",
              "\n",
              "    [theme=dark] .colab-df-convert:hover {\n",
              "      background-color: #434B5C;\n",
              "      box-shadow: 0px 1px 3px 1px rgba(0, 0, 0, 0.15);\n",
              "      filter: drop-shadow(0px 1px 2px rgba(0, 0, 0, 0.3));\n",
              "      fill: #FFFFFF;\n",
              "    }\n",
              "  </style>\n",
              "\n",
              "    <script>\n",
              "      const buttonEl =\n",
              "        document.querySelector('#df-05184557-e982-4e44-87f1-240e5d99d4fd button.colab-df-convert');\n",
              "      buttonEl.style.display =\n",
              "        google.colab.kernel.accessAllowed ? 'block' : 'none';\n",
              "\n",
              "      async function convertToInteractive(key) {\n",
              "        const element = document.querySelector('#df-05184557-e982-4e44-87f1-240e5d99d4fd');\n",
              "        const dataTable =\n",
              "          await google.colab.kernel.invokeFunction('convertToInteractive',\n",
              "                                                    [key], {});\n",
              "        if (!dataTable) return;\n",
              "\n",
              "        const docLinkHtml = 'Like what you see? Visit the ' +\n",
              "          '<a target=\"_blank\" href=https://colab.research.google.com/notebooks/data_table.ipynb>data table notebook</a>'\n",
              "          + ' to learn more about interactive tables.';\n",
              "        element.innerHTML = '';\n",
              "        dataTable['output_type'] = 'display_data';\n",
              "        await google.colab.output.renderOutput(dataTable, element);\n",
              "        const docLink = document.createElement('div');\n",
              "        docLink.innerHTML = docLinkHtml;\n",
              "        element.appendChild(docLink);\n",
              "      }\n",
              "    </script>\n",
              "  </div>\n",
              "\n",
              "\n",
              "<div id=\"df-7ced563f-2434-4ee2-b423-1f18f97fde28\">\n",
              "  <button class=\"colab-df-quickchart\" onclick=\"quickchart('df-7ced563f-2434-4ee2-b423-1f18f97fde28')\"\n",
              "            title=\"Suggest charts\"\n",
              "            style=\"display:none;\">\n",
              "\n",
              "<svg xmlns=\"http://www.w3.org/2000/svg\" height=\"24px\"viewBox=\"0 0 24 24\"\n",
              "     width=\"24px\">\n",
              "    <g>\n",
              "        <path d=\"M19 3H5c-1.1 0-2 .9-2 2v14c0 1.1.9 2 2 2h14c1.1 0 2-.9 2-2V5c0-1.1-.9-2-2-2zM9 17H7v-7h2v7zm4 0h-2V7h2v10zm4 0h-2v-4h2v4z\"/>\n",
              "    </g>\n",
              "</svg>\n",
              "  </button>\n",
              "\n",
              "<style>\n",
              "  .colab-df-quickchart {\n",
              "      --bg-color: #E8F0FE;\n",
              "      --fill-color: #1967D2;\n",
              "      --hover-bg-color: #E2EBFA;\n",
              "      --hover-fill-color: #174EA6;\n",
              "      --disabled-fill-color: #AAA;\n",
              "      --disabled-bg-color: #DDD;\n",
              "  }\n",
              "\n",
              "  [theme=dark] .colab-df-quickchart {\n",
              "      --bg-color: #3B4455;\n",
              "      --fill-color: #D2E3FC;\n",
              "      --hover-bg-color: #434B5C;\n",
              "      --hover-fill-color: #FFFFFF;\n",
              "      --disabled-bg-color: #3B4455;\n",
              "      --disabled-fill-color: #666;\n",
              "  }\n",
              "\n",
              "  .colab-df-quickchart {\n",
              "    background-color: var(--bg-color);\n",
              "    border: none;\n",
              "    border-radius: 50%;\n",
              "    cursor: pointer;\n",
              "    display: none;\n",
              "    fill: var(--fill-color);\n",
              "    height: 32px;\n",
              "    padding: 0;\n",
              "    width: 32px;\n",
              "  }\n",
              "\n",
              "  .colab-df-quickchart:hover {\n",
              "    background-color: var(--hover-bg-color);\n",
              "    box-shadow: 0 1px 2px rgba(60, 64, 67, 0.3), 0 1px 3px 1px rgba(60, 64, 67, 0.15);\n",
              "    fill: var(--button-hover-fill-color);\n",
              "  }\n",
              "\n",
              "  .colab-df-quickchart-complete:disabled,\n",
              "  .colab-df-quickchart-complete:disabled:hover {\n",
              "    background-color: var(--disabled-bg-color);\n",
              "    fill: var(--disabled-fill-color);\n",
              "    box-shadow: none;\n",
              "  }\n",
              "\n",
              "  .colab-df-spinner {\n",
              "    border: 2px solid var(--fill-color);\n",
              "    border-color: transparent;\n",
              "    border-bottom-color: var(--fill-color);\n",
              "    animation:\n",
              "      spin 1s steps(1) infinite;\n",
              "  }\n",
              "\n",
              "  @keyframes spin {\n",
              "    0% {\n",
              "      border-color: transparent;\n",
              "      border-bottom-color: var(--fill-color);\n",
              "      border-left-color: var(--fill-color);\n",
              "    }\n",
              "    20% {\n",
              "      border-color: transparent;\n",
              "      border-left-color: var(--fill-color);\n",
              "      border-top-color: var(--fill-color);\n",
              "    }\n",
              "    30% {\n",
              "      border-color: transparent;\n",
              "      border-left-color: var(--fill-color);\n",
              "      border-top-color: var(--fill-color);\n",
              "      border-right-color: var(--fill-color);\n",
              "    }\n",
              "    40% {\n",
              "      border-color: transparent;\n",
              "      border-right-color: var(--fill-color);\n",
              "      border-top-color: var(--fill-color);\n",
              "    }\n",
              "    60% {\n",
              "      border-color: transparent;\n",
              "      border-right-color: var(--fill-color);\n",
              "    }\n",
              "    80% {\n",
              "      border-color: transparent;\n",
              "      border-right-color: var(--fill-color);\n",
              "      border-bottom-color: var(--fill-color);\n",
              "    }\n",
              "    90% {\n",
              "      border-color: transparent;\n",
              "      border-bottom-color: var(--fill-color);\n",
              "    }\n",
              "  }\n",
              "</style>\n",
              "\n",
              "  <script>\n",
              "    async function quickchart(key) {\n",
              "      const quickchartButtonEl =\n",
              "        document.querySelector('#' + key + ' button');\n",
              "      quickchartButtonEl.disabled = true;  // To prevent multiple clicks.\n",
              "      quickchartButtonEl.classList.add('colab-df-spinner');\n",
              "      try {\n",
              "        const charts = await google.colab.kernel.invokeFunction(\n",
              "            'suggestCharts', [key], {});\n",
              "      } catch (error) {\n",
              "        console.error('Error during call to suggestCharts:', error);\n",
              "      }\n",
              "      quickchartButtonEl.classList.remove('colab-df-spinner');\n",
              "      quickchartButtonEl.classList.add('colab-df-quickchart-complete');\n",
              "    }\n",
              "    (() => {\n",
              "      let quickchartButtonEl =\n",
              "        document.querySelector('#df-7ced563f-2434-4ee2-b423-1f18f97fde28 button');\n",
              "      quickchartButtonEl.style.display =\n",
              "        google.colab.kernel.accessAllowed ? 'block' : 'none';\n",
              "    })();\n",
              "  </script>\n",
              "</div>\n",
              "\n",
              "    </div>\n",
              "  </div>\n"
            ],
            "application/vnd.google.colaboratory.intrinsic+json": {
              "type": "dataframe",
              "variable_name": "df",
              "summary": "{\n  \"name\": \"df\",\n  \"rows\": 170,\n  \"fields\": [\n    {\n      \"column\": \"Transaction Date\",\n      \"properties\": {\n        \"dtype\": \"date\",\n        \"min\": \"2023-06-27 14:42:54\",\n        \"max\": \"2024-03-05 14:12:36\",\n        \"num_unique_values\": 170,\n        \"samples\": [\n          \"2024-01-20 21:49:44\",\n          \"2023-08-10 13:23:42\",\n          \"2023-12-19 11:22:37\"\n        ],\n        \"semantic_type\": \"\",\n        \"description\": \"\"\n      }\n    },\n    {\n      \"column\": \"Qty\",\n      \"properties\": {\n        \"dtype\": \"number\",\n        \"std\": 15,\n        \"min\": 3,\n        \"max\": 120,\n        \"num_unique_values\": 21,\n        \"samples\": [\n          18,\n          120,\n          4\n        ],\n        \"semantic_type\": \"\",\n        \"description\": \"\"\n      }\n    }\n  ]\n}"
            }
          },
          "metadata": {},
          "execution_count": 3
        }
      ]
    },
    {
      "cell_type": "code",
      "source": [
        "from statsmodels.tsa.seasonal import seasonal_decompose"
      ],
      "metadata": {
        "id": "M4LhbhNoCSxZ"
      },
      "execution_count": 4,
      "outputs": []
    },
    {
      "cell_type": "code",
      "source": [
        "results = seasonal_decompose(df['Qty'], period=12)\n",
        "results.plot();"
      ],
      "metadata": {
        "colab": {
          "base_uri": "https://localhost:8080/",
          "height": 487
        },
        "id": "pXjI-GYMCVEr",
        "outputId": "d9cce8ac-168f-4cf4-a218-e3c8be79c83e"
      },
      "execution_count": 5,
      "outputs": [
        {
          "output_type": "display_data",
          "data": {
            "text/plain": [
              "<Figure size 640x480 with 4 Axes>"
            ],
            "image/png": "[encoded data removed]"
          },
          "metadata": {}
        }
      ]
    },
    {
      "cell_type": "code",
      "source": [
        "len(df)"
      ],
      "metadata": {
        "colab": {
          "base_uri": "https://localhost:8080/"
        },
        "id": "fgIC3CDYYnPI",
        "outputId": "111502fe-ad4a-46e4-9f04-159b4acad520"
      },
      "execution_count": 6,
      "outputs": [
        {
          "output_type": "execute_result",
          "data": {
            "text/plain": [
              "170"
            ]
          },
          "metadata": {},
          "execution_count": 6
        }
      ]
    },
    {
      "cell_type": "code",
      "source": [
        "train = df.iloc[:156]\n",
        "test = df.iloc[156:]"
      ],
      "metadata": {
        "id": "hRbcZeneYsyp"
      },
      "execution_count": 7,
      "outputs": []
    },
    {
      "cell_type": "code",
      "source": [
        "from sklearn.preprocessing import MinMaxScaler\n",
        "scaler = MinMaxScaler()"
      ],
      "metadata": {
        "id": "b5GuYcuEYve1"
      },
      "execution_count": 8,
      "outputs": []
    },
    {
      "cell_type": "code",
      "source": [
        "df.head(),df.tail()\n"
      ],
      "metadata": {
        "colab": {
          "base_uri": "https://localhost:8080/"
        },
        "id": "Ue6mGtGeYx5B",
        "outputId": "68aa6d15-4c1e-455a-88a0-4d680f2ab41e"
      },
      "execution_count": 9,
      "outputs": [
        {
          "output_type": "execute_result",
          "data": {
            "text/plain": [
              "(                     Qty\n",
              " Transaction Date        \n",
              " 2023-06-27 14:42:54   18\n",
              " 2023-06-29 10:22:06   12\n",
              " 2023-06-29 14:42:16   16\n",
              " 2023-07-04 16:02:13   48\n",
              " 2023-07-04 21:23:03   20,\n",
              "                      Qty\n",
              " Transaction Date        \n",
              " 2024-03-02 12:22:41   28\n",
              " 2024-03-02 16:02:37   12\n",
              " 2024-03-02 16:23:00   16\n",
              " 2024-03-04 11:32:20   12\n",
              " 2024-03-05 14:12:36    6)"
            ]
          },
          "metadata": {},
          "execution_count": 9
        }
      ]
    },
    {
      "cell_type": "code",
      "source": [
        "scaler.fit(train)\n",
        "scaled_train = scaler.transform(train)\n",
        "scaled_test = scaler.transform(test)\n"
      ],
      "metadata": {
        "id": "rwmCyZD5Y1W2"
      },
      "execution_count": 10,
      "outputs": []
    },
    {
      "cell_type": "code",
      "source": [
        "scaled_train[:10]"
      ],
      "metadata": {
        "colab": {
          "base_uri": "https://localhost:8080/"
        },
        "id": "l6_e8v3bcMIX",
        "outputId": "28c60008-f332-4d99-d677-a2abf6902a77"
      },
      "execution_count": 11,
      "outputs": [
        {
          "output_type": "execute_result",
          "data": {
            "text/plain": [
              "array([[0.12820513],\n",
              "       [0.07692308],\n",
              "       [0.11111111],\n",
              "       [0.38461538],\n",
              "       [0.14529915],\n",
              "       [0.05982906],\n",
              "       [0.17948718],\n",
              "       [0.17948718],\n",
              "       [0.05128205],\n",
              "       [0.17948718]])"
            ]
          },
          "metadata": {},
          "execution_count": 11
        }
      ]
    },
    {
      "cell_type": "code",
      "source": [
        "from keras.preprocessing.sequence import TimeseriesGenerator"
      ],
      "metadata": {
        "id": "zO_I4jOMcN3l"
      },
      "execution_count": 12,
      "outputs": []
    },
    {
      "cell_type": "code",
      "source": [
        "n_input = 3\n",
        "n_features = 1\n",
        "generator = TimeseriesGenerator(scaled_train, scaled_train, length=n_input, batch_size=1)"
      ],
      "metadata": {
        "id": "qlOcVEvUcT8c"
      },
      "execution_count": 13,
      "outputs": []
    },
    {
      "cell_type": "code",
      "source": [
        "X,y = generator[0]\n",
        "print(f'Given the Array: \\n{X.flatten()}')\n",
        "print(f'Predict this y: \\n {y}')"
      ],
      "metadata": {
        "colab": {
          "base_uri": "https://localhost:8080/"
        },
        "id": "JO0mt-3_dVe4",
        "outputId": "25f4c841-60ce-46d2-8d6f-2c1654f2c642"
      },
      "execution_count": 14,
      "outputs": [
        {
          "output_type": "stream",
          "name": "stdout",
          "text": [
            "Given the Array: \n",
            "[0.12820513 0.07692308 0.11111111]\n",
            "Predict this y: \n",
            " [[0.38461538]]\n"
          ]
        }
      ]
    },
    {
      "cell_type": "code",
      "source": [
        "X.shape"
      ],
      "metadata": {
        "colab": {
          "base_uri": "https://localhost:8080/"
        },
        "id": "vowuO4G0dccq",
        "outputId": "681007cb-e1a1-4571-cede-263093969dba"
      },
      "execution_count": 15,
      "outputs": [
        {
          "output_type": "execute_result",
          "data": {
            "text/plain": [
              "(1, 3, 1)"
            ]
          },
          "metadata": {},
          "execution_count": 15
        }
      ]
    },
    {
      "cell_type": "code",
      "source": [
        "n_input = 12\n",
        "generator = TimeseriesGenerator(scaled_train, scaled_train, length=n_input, batch_size=1)"
      ],
      "metadata": {
        "id": "wBbxpoxJdiiz"
      },
      "execution_count": 16,
      "outputs": []
    },
    {
      "cell_type": "code",
      "source": [
        "from keras.models import Sequential\n",
        "from keras.layers import Dense\n",
        "from keras.layers import LSTM"
      ],
      "metadata": {
        "id": "FDkhjF9cdl34"
      },
      "execution_count": 17,
      "outputs": []
    },
    {
      "cell_type": "code",
      "source": [
        "# define model\n",
        "model = Sequential()\n",
        "model.add(LSTM(100, activation='relu', input_shape=(n_input, n_features)))\n",
        "model.add(Dense(1))\n",
        "model.compile(optimizer='adam', loss='mse')"
      ],
      "metadata": {
        "id": "oY1A2SLodolu"
      },
      "execution_count": 18,
      "outputs": []
    },
    {
      "cell_type": "code",
      "source": [
        "model.summary()"
      ],
      "metadata": {
        "colab": {
          "base_uri": "https://localhost:8080/"
        },
        "id": "hvupL1ltdvKw",
        "outputId": "a422d1af-076d-4e91-abd7-90d1178337ed"
      },
      "execution_count": 19,
      "outputs": [
        {
          "output_type": "stream",
          "name": "stdout",
          "text": [
            "Model: \"sequential\"\n",
            "_________________________________________________________________\n",
            " Layer (type)                Output Shape              Param #   \n",
            "=================================================================\n",
            " lstm (LSTM)                 (None, 100)               40800     \n",
            "                                                                 \n",
            " dense (Dense)               (None, 1)                 101       \n",
            "                                                                 \n",
            "=================================================================\n",
            "Total params: 40901 (159.77 KB)\n",
            "Trainable params: 40901 (159.77 KB)\n",
            "Non-trainable params: 0 (0.00 Byte)\n",
            "_________________________________________________________________\n"
          ]
        }
      ]
    },
    {
      "cell_type": "code",
      "source": [
        "model.fit(generator,epochs=150)"
      ],
      "metadata": {
        "colab": {
          "base_uri": "https://localhost:8080/"
        },
        "id": "Y_whXMXPdxiz",
        "outputId": "b0b6e8fe-b7f8-42d6-a7f8-6a56b33ef82f"
      },
      "execution_count": 20,
      "outputs": [
        {
          "output_type": "stream",
          "name": "stdout",
          "text": [
            "Epoch 1/150\n",
            "144/144 [==============================] - 9s 24ms/step - loss: 0.0206\n",
            "Epoch 2/150\n",
            "144/144 [==============================] - 3s 19ms/step - loss: 0.0193\n",
            "Epoch 3/150\n",
            "144/144 [==============================] - 3s 19ms/step - loss: 0.0199\n",
            "Epoch 4/150\n",
            "144/144 [==============================] - 4s 25ms/step - loss: 0.0197\n",
            "Epoch 5/150\n",
            "144/144 [==============================] - 4s 28ms/step - loss: 0.0196\n",
            "Epoch 6/150\n",
            "144/144 [==============================] - 3s 20ms/step - loss: 0.0193\n",
            "Epoch 7/150\n",
            "144/144 [==============================] - 1s 10ms/step - loss: 0.0188\n",
            "Epoch 8/150\n",
            "144/144 [==============================] - 1s 10ms/step - loss: 0.0193\n",
            "Epoch 9/150\n",
            "144/144 [==============================] - 1s 10ms/step - loss: 0.0190\n",
            "Epoch 10/150\n",
            "144/144 [==============================] - 2s 11ms/step - loss: 0.0187\n",
            "Epoch 11/150\n",
            "144/144 [==============================] - 2s 16ms/step - loss: 0.0195\n",
            "Epoch 12/150\n",
            "144/144 [==============================] - 2s 11ms/step - loss: 0.0188\n",
            "Epoch 13/150\n",
            "144/144 [==============================] - 1s 9ms/step - loss: 0.0186\n",
            "Epoch 14/150\n",
            "144/144 [==============================] - 1s 10ms/step - loss: 0.0193\n",
            "Epoch 15/150\n",
            "144/144 [==============================] - 2s 10ms/step - loss: 0.0190\n",
            "Epoch 16/150\n",
            "144/144 [==============================] - 1s 10ms/step - loss: 0.0187\n",
            "Epoch 17/150\n",
            "144/144 [==============================] - 2s 11ms/step - loss: 0.0187\n",
            "Epoch 18/150\n",
            "144/144 [==============================] - 3s 17ms/step - loss: 0.0190\n",
            "Epoch 19/150\n",
            "144/144 [==============================] - 1s 9ms/step - loss: 0.0186\n",
            "Epoch 20/150\n",
            "144/144 [==============================] - 1s 9ms/step - loss: 0.0186\n",
            "Epoch 21/150\n",
            "144/144 [==============================] - 1s 10ms/step - loss: 0.0193\n",
            "Epoch 22/150\n",
            "144/144 [==============================] - 2s 13ms/step - loss: 0.0186\n",
            "Epoch 23/150\n",
            "144/144 [==============================] - 2s 17ms/step - loss: 0.0186\n",
            "Epoch 24/150\n",
            "144/144 [==============================] - 2s 11ms/step - loss: 0.0185\n",
            "Epoch 25/150\n",
            "144/144 [==============================] - 1s 9ms/step - loss: 0.0185\n",
            "Epoch 26/150\n",
            "144/144 [==============================] - 1s 10ms/step - loss: 0.0186\n",
            "Epoch 27/150\n",
            "144/144 [==============================] - 1s 10ms/step - loss: 0.0181\n",
            "Epoch 28/150\n",
            "144/144 [==============================] - 1s 10ms/step - loss: 0.0187\n",
            "Epoch 29/150\n",
            "144/144 [==============================] - 3s 17ms/step - loss: 0.0187\n",
            "Epoch 30/150\n",
            "144/144 [==============================] - 2s 17ms/step - loss: 0.0184\n",
            "Epoch 31/150\n",
            "144/144 [==============================] - 2s 12ms/step - loss: 0.0184\n",
            "Epoch 32/150\n",
            "144/144 [==============================] - 1s 10ms/step - loss: 0.0186\n",
            "Epoch 33/150\n",
            "144/144 [==============================] - 1s 10ms/step - loss: 0.0186\n",
            "Epoch 34/150\n",
            "144/144 [==============================] - 1s 9ms/step - loss: 0.0185\n",
            "Epoch 35/150\n",
            "144/144 [==============================] - 1s 10ms/step - loss: 0.0185\n",
            "Epoch 36/150\n",
            "144/144 [==============================] - 1s 10ms/step - loss: 0.0184\n",
            "Epoch 37/150\n",
            "144/144 [==============================] - 2s 16ms/step - loss: 0.0185\n",
            "Epoch 38/150\n",
            "144/144 [==============================] - 3s 17ms/step - loss: 0.0184\n",
            "Epoch 39/150\n",
            "144/144 [==============================] - 2s 11ms/step - loss: 0.0187\n",
            "Epoch 40/150\n",
            "144/144 [==============================] - 1s 9ms/step - loss: 0.0185\n",
            "Epoch 41/150\n",
            "144/144 [==============================] - 1s 10ms/step - loss: 0.0185\n",
            "Epoch 42/150\n",
            "144/144 [==============================] - 1s 10ms/step - loss: 0.0184\n",
            "Epoch 43/150\n",
            "144/144 [==============================] - 1s 9ms/step - loss: 0.0188\n",
            "Epoch 44/150\n",
            "144/144 [==============================] - 1s 10ms/step - loss: 0.0185\n",
            "Epoch 45/150\n",
            "144/144 [==============================] - 2s 16ms/step - loss: 0.0186\n",
            "Epoch 46/150\n",
            "144/144 [==============================] - 2s 17ms/step - loss: 0.0184\n",
            "Epoch 47/150\n",
            "144/144 [==============================] - 1s 9ms/step - loss: 0.0183\n",
            "Epoch 48/150\n",
            "144/144 [==============================] - 2s 14ms/step - loss: 0.0184\n",
            "Epoch 49/150\n",
            "144/144 [==============================] - 1s 10ms/step - loss: 0.0186\n",
            "Epoch 50/150\n",
            "144/144 [==============================] - 1s 9ms/step - loss: 0.0183\n",
            "Epoch 51/150\n",
            "144/144 [==============================] - 1s 9ms/step - loss: 0.0185\n",
            "Epoch 52/150\n",
            "144/144 [==============================] - 2s 10ms/step - loss: 0.0183\n",
            "Epoch 53/150\n",
            "144/144 [==============================] - 2s 16ms/step - loss: 0.0183\n",
            "Epoch 54/150\n",
            "144/144 [==============================] - 2s 16ms/step - loss: 0.0183\n",
            "Epoch 55/150\n",
            "144/144 [==============================] - 1s 10ms/step - loss: 0.0182\n",
            "Epoch 56/150\n",
            "144/144 [==============================] - 1s 9ms/step - loss: 0.0182\n",
            "Epoch 57/150\n",
            "144/144 [==============================] - 1s 10ms/step - loss: 0.0182\n",
            "Epoch 58/150\n",
            "144/144 [==============================] - 1s 10ms/step - loss: 0.0184\n",
            "Epoch 59/150\n",
            "144/144 [==============================] - 1s 10ms/step - loss: 0.0181\n",
            "Epoch 60/150\n",
            "144/144 [==============================] - 1s 10ms/step - loss: 0.0183\n",
            "Epoch 61/150\n",
            "144/144 [==============================] - 1s 9ms/step - loss: 0.0181\n",
            "Epoch 62/150\n",
            "144/144 [==============================] - 2s 16ms/step - loss: 0.0183\n",
            "Epoch 63/150\n",
            "144/144 [==============================] - 2s 13ms/step - loss: 0.0182\n",
            "Epoch 64/150\n",
            "144/144 [==============================] - 1s 10ms/step - loss: 0.0183\n",
            "Epoch 65/150\n",
            "144/144 [==============================] - 1s 10ms/step - loss: 0.0184\n",
            "Epoch 66/150\n",
            "144/144 [==============================] - 1s 9ms/step - loss: 0.0183\n",
            "Epoch 67/150\n",
            "144/144 [==============================] - 1s 10ms/step - loss: 0.0180\n",
            "Epoch 68/150\n",
            "144/144 [==============================] - 2s 14ms/step - loss: 0.0183\n",
            "Epoch 69/150\n",
            "144/144 [==============================] - 2s 16ms/step - loss: 0.0181\n",
            "Epoch 70/150\n",
            "144/144 [==============================] - 2s 11ms/step - loss: 0.0181\n",
            "Epoch 71/150\n",
            "144/144 [==============================] - 1s 10ms/step - loss: 0.0180\n",
            "Epoch 72/150\n",
            "144/144 [==============================] - 1s 10ms/step - loss: 0.0181\n",
            "Epoch 73/150\n",
            "144/144 [==============================] - 1s 9ms/step - loss: 0.0182\n",
            "Epoch 74/150\n",
            "144/144 [==============================] - 1s 10ms/step - loss: 0.0180\n",
            "Epoch 75/150\n",
            "144/144 [==============================] - 1s 10ms/step - loss: 0.0179\n",
            "Epoch 76/150\n",
            "144/144 [==============================] - 2s 14ms/step - loss: 0.0180\n",
            "Epoch 77/150\n",
            "144/144 [==============================] - 2s 17ms/step - loss: 0.0180\n",
            "Epoch 78/150\n",
            "144/144 [==============================] - 2s 11ms/step - loss: 0.0182\n",
            "Epoch 79/150\n",
            "144/144 [==============================] - 2s 11ms/step - loss: 0.0183\n",
            "Epoch 80/150\n",
            "144/144 [==============================] - 1s 10ms/step - loss: 0.0180\n",
            "Epoch 81/150\n",
            "144/144 [==============================] - 1s 9ms/step - loss: 0.0180\n",
            "Epoch 82/150\n",
            "144/144 [==============================] - 2s 11ms/step - loss: 0.0178\n",
            "Epoch 83/150\n",
            "144/144 [==============================] - 2s 16ms/step - loss: 0.0179\n",
            "Epoch 84/150\n",
            "144/144 [==============================] - 2s 17ms/step - loss: 0.0178\n",
            "Epoch 85/150\n",
            "144/144 [==============================] - 2s 11ms/step - loss: 0.0181\n",
            "Epoch 86/150\n",
            "144/144 [==============================] - 1s 9ms/step - loss: 0.0177\n",
            "Epoch 87/150\n",
            "144/144 [==============================] - 1s 10ms/step - loss: 0.0179\n",
            "Epoch 88/150\n",
            "144/144 [==============================] - 1s 10ms/step - loss: 0.0179\n",
            "Epoch 89/150\n",
            "144/144 [==============================] - 1s 9ms/step - loss: 0.0182\n",
            "Epoch 90/150\n",
            "144/144 [==============================] - 1s 10ms/step - loss: 0.0180\n",
            "Epoch 91/150\n",
            "144/144 [==============================] - 2s 11ms/step - loss: 0.0173\n",
            "Epoch 92/150\n",
            "144/144 [==============================] - 2s 17ms/step - loss: 0.0185\n",
            "Epoch 93/150\n",
            "144/144 [==============================] - 1s 10ms/step - loss: 0.0177\n",
            "Epoch 94/150\n",
            "144/144 [==============================] - 1s 9ms/step - loss: 0.0173\n",
            "Epoch 95/150\n",
            "144/144 [==============================] - 1s 10ms/step - loss: 0.0175\n",
            "Epoch 96/150\n",
            "144/144 [==============================] - 1s 9ms/step - loss: 0.0173\n",
            "Epoch 97/150\n",
            "144/144 [==============================] - 1s 9ms/step - loss: 0.0173\n",
            "Epoch 98/150\n",
            "144/144 [==============================] - 2s 12ms/step - loss: 0.0173\n",
            "Epoch 99/150\n",
            "144/144 [==============================] - 2s 16ms/step - loss: 0.0174\n",
            "Epoch 100/150\n",
            "144/144 [==============================] - 2s 11ms/step - loss: 0.0171\n",
            "Epoch 101/150\n",
            "144/144 [==============================] - 1s 9ms/step - loss: 0.0167\n",
            "Epoch 102/150\n",
            "144/144 [==============================] - 2s 13ms/step - loss: 0.0168\n",
            "Epoch 103/150\n",
            "144/144 [==============================] - 1s 9ms/step - loss: 0.0166\n",
            "Epoch 104/150\n",
            "144/144 [==============================] - 1s 9ms/step - loss: 0.0166\n",
            "Epoch 105/150\n",
            "144/144 [==============================] - 1s 10ms/step - loss: 0.0170\n",
            "Epoch 106/150\n",
            "144/144 [==============================] - 2s 16ms/step - loss: 0.0164\n",
            "Epoch 107/150\n",
            "144/144 [==============================] - 3s 22ms/step - loss: 0.0166\n",
            "Epoch 108/150\n",
            "144/144 [==============================] - 1s 10ms/step - loss: 0.0160\n",
            "Epoch 109/150\n",
            "144/144 [==============================] - 1s 9ms/step - loss: 0.0160\n",
            "Epoch 110/150\n",
            "144/144 [==============================] - 1s 10ms/step - loss: 0.0154\n",
            "Epoch 111/150\n",
            "144/144 [==============================] - 1s 9ms/step - loss: 0.0155\n",
            "Epoch 112/150\n",
            "144/144 [==============================] - 2s 16ms/step - loss: 0.0156\n",
            "Epoch 113/150\n",
            "144/144 [==============================] - 2s 17ms/step - loss: 0.0155\n",
            "Epoch 114/150\n",
            "144/144 [==============================] - 2s 16ms/step - loss: 0.0143\n",
            "Epoch 115/150\n",
            "144/144 [==============================] - 2s 16ms/step - loss: 0.0154\n",
            "Epoch 116/150\n",
            "144/144 [==============================] - 1s 9ms/step - loss: 0.0153\n",
            "Epoch 117/150\n",
            "144/144 [==============================] - 1s 9ms/step - loss: 0.0140\n",
            "Epoch 118/150\n",
            "144/144 [==============================] - 1s 9ms/step - loss: 0.0142\n",
            "Epoch 119/150\n",
            "144/144 [==============================] - 2s 15ms/step - loss: 0.0129\n",
            "Epoch 120/150\n",
            "144/144 [==============================] - 2s 16ms/step - loss: 0.0138\n",
            "Epoch 121/150\n",
            "144/144 [==============================] - 2s 11ms/step - loss: 0.0141\n",
            "Epoch 122/150\n",
            "144/144 [==============================] - 1s 9ms/step - loss: 0.0121\n",
            "Epoch 123/150\n",
            "144/144 [==============================] - 1s 9ms/step - loss: 0.0118\n",
            "Epoch 124/150\n",
            "144/144 [==============================] - 1s 10ms/step - loss: 0.0124\n",
            "Epoch 125/150\n",
            "144/144 [==============================] - 1s 10ms/step - loss: 0.0122\n",
            "Epoch 126/150\n",
            "144/144 [==============================] - 1s 10ms/step - loss: 0.0123\n",
            "Epoch 127/150\n",
            "144/144 [==============================] - 2s 15ms/step - loss: 0.0121\n",
            "Epoch 128/150\n",
            "144/144 [==============================] - 2s 15ms/step - loss: 0.0126\n",
            "Epoch 129/150\n",
            "144/144 [==============================] - 1s 9ms/step - loss: 0.0116\n",
            "Epoch 130/150\n",
            "144/144 [==============================] - 1s 9ms/step - loss: 0.0110\n",
            "Epoch 131/150\n",
            "144/144 [==============================] - 1s 9ms/step - loss: 0.0118\n",
            "Epoch 132/150\n",
            "144/144 [==============================] - 1s 9ms/step - loss: 0.0103\n",
            "Epoch 133/150\n",
            "144/144 [==============================] - 1s 9ms/step - loss: 0.0107\n",
            "Epoch 134/150\n",
            "144/144 [==============================] - 1s 9ms/step - loss: 0.0100\n",
            "Epoch 135/150\n",
            "144/144 [==============================] - 2s 14ms/step - loss: 0.0097\n",
            "Epoch 136/150\n",
            "144/144 [==============================] - 2s 16ms/step - loss: 0.0098\n",
            "Epoch 137/150\n",
            "144/144 [==============================] - 2s 11ms/step - loss: 0.0093\n",
            "Epoch 138/150\n",
            "144/144 [==============================] - 1s 9ms/step - loss: 0.0098\n",
            "Epoch 139/150\n",
            "144/144 [==============================] - 1s 9ms/step - loss: 0.0102\n",
            "Epoch 140/150\n",
            "144/144 [==============================] - 1s 9ms/step - loss: 0.0103\n",
            "Epoch 141/150\n",
            "144/144 [==============================] - 1s 9ms/step - loss: 0.0094\n",
            "Epoch 142/150\n",
            "144/144 [==============================] - 1s 10ms/step - loss: 0.0089\n",
            "Epoch 143/150\n",
            "144/144 [==============================] - 1s 9ms/step - loss: 0.0094\n",
            "Epoch 144/150\n",
            "144/144 [==============================] - 2s 16ms/step - loss: 0.0099\n",
            "Epoch 145/150\n",
            "144/144 [==============================] - 2s 16ms/step - loss: 0.0107\n",
            "Epoch 146/150\n",
            "144/144 [==============================] - 1s 10ms/step - loss: 0.0090\n",
            "Epoch 147/150\n",
            "144/144 [==============================] - 1s 9ms/step - loss: 0.0088\n",
            "Epoch 148/150\n",
            "144/144 [==============================] - 1s 9ms/step - loss: 0.0092\n",
            "Epoch 149/150\n",
            "144/144 [==============================] - 1s 9ms/step - loss: 0.0086\n",
            "Epoch 150/150\n",
            "144/144 [==============================] - 1s 9ms/step - loss: 0.0119\n"
          ]
        },
        {
          "output_type": "execute_result",
          "data": {
            "text/plain": [
              "<keras.src.callbacks.History at 0x79d8e15facb0>"
            ]
          },
          "metadata": {},
          "execution_count": 20
        }
      ]
    },
    {
      "cell_type": "code",
      "source": [
        "loss_per_epoch = model.history.history['loss']\n",
        "plt.plot(range(len(loss_per_epoch)),loss_per_epoch)"
      ],
      "metadata": {
        "colab": {
          "base_uri": "https://localhost:8080/",
          "height": 447
        },
        "id": "KnFW3S_weH98",
        "outputId": "b6943329-464a-49e6-91ea-417f5d94f4d0"
      },
      "execution_count": 21,
      "outputs": [
        {
          "output_type": "execute_result",
          "data": {
            "text/plain": [
              "[<matplotlib.lines.Line2D at 0x79d8e13fe860>]"
            ]
          },
          "metadata": {},
          "execution_count": 21
        },
        {
          "output_type": "display_data",
          "data": {
            "text/plain": [
              "<Figure size 640x480 with 1 Axes>"
            ],
            "image/png": "[encoded data removed]"
          },
          "metadata": {}
        }
      ]
    },
    {
      "cell_type": "code",
      "source": [
        "last_train_batch = scaled_train[-12:]"
      ],
      "metadata": {
        "id": "ddCRN_6sfVa1"
      },
      "execution_count": 22,
      "outputs": []
    },
    {
      "cell_type": "code",
      "source": [
        "last_train_batch = last_train_batch.reshape((1, n_input, n_features))"
      ],
      "metadata": {
        "id": "2q2NAm0IfdrK"
      },
      "execution_count": 23,
      "outputs": []
    },
    {
      "cell_type": "code",
      "source": [
        "model.predict(last_train_batch)"
      ],
      "metadata": {
        "colab": {
          "base_uri": "https://localhost:8080/"
        },
        "id": "xQfgMHrcff3X",
        "outputId": "591a6925-a509-49bd-974a-0bab764b9a6b"
      },
      "execution_count": 24,
      "outputs": [
        {
          "output_type": "stream",
          "name": "stdout",
          "text": [
            "1/1 [==============================] - 0s 335ms/step\n"
          ]
        },
        {
          "output_type": "execute_result",
          "data": {
            "text/plain": [
              "array([[0.1046256]], dtype=float32)"
            ]
          },
          "metadata": {},
          "execution_count": 24
        }
      ]
    },
    {
      "cell_type": "code",
      "source": [
        "scaled_test[0]"
      ],
      "metadata": {
        "colab": {
          "base_uri": "https://localhost:8080/"
        },
        "id": "_MnOkZ4jfh1S",
        "outputId": "bfe63a36-8eba-40e7-d5d2-32611f58059e"
      },
      "execution_count": 25,
      "outputs": [
        {
          "output_type": "execute_result",
          "data": {
            "text/plain": [
              "array([0.01709402])"
            ]
          },
          "metadata": {},
          "execution_count": 25
        }
      ]
    },
    {
      "cell_type": "code",
      "source": [
        "\n",
        "test_predictions = []\n",
        "\n",
        "first_eval_batch = scaled_train[-n_input:]\n",
        "current_batch = first_eval_batch.reshape((1, n_input, n_features))\n",
        "\n",
        "for i in range(len(test)):\n",
        "\n",
        "    # get the prediction value for the first batch\n",
        "    current_pred = model.predict(current_batch)[0]\n",
        "\n",
        "    # append the prediction into the array\n",
        "    test_predictions.append(current_pred)\n",
        "\n",
        "    # use the prediction to update the batch and remove the first value\n",
        "    current_batch = np.append(current_batch[:,1:,:],[[current_pred]],axis=1)"
      ],
      "metadata": {
        "colab": {
          "base_uri": "https://localhost:8080/"
        },
        "id": "QmOB9PfGfjRa",
        "outputId": "77ec9650-61d9-4759-abbd-d33b1fd1318f"
      },
      "execution_count": 26,
      "outputs": [
        {
          "output_type": "stream",
          "name": "stdout",
          "text": [
            "1/1 [==============================] - 0s 34ms/step\n",
            "1/1 [==============================] - 0s 34ms/step\n",
            "1/1 [==============================] - 0s 44ms/step\n",
            "1/1 [==============================] - 0s 36ms/step\n",
            "1/1 [==============================] - 0s 40ms/step\n",
            "1/1 [==============================] - 0s 36ms/step\n",
            "1/1 [==============================] - 0s 50ms/step\n",
            "1/1 [==============================] - 0s 48ms/step\n",
            "1/1 [==============================] - 0s 33ms/step\n",
            "1/1 [==============================] - 0s 39ms/step\n",
            "1/1 [==============================] - 0s 38ms/step\n",
            "1/1 [==============================] - 0s 39ms/step\n",
            "1/1 [==============================] - 0s 33ms/step\n",
            "1/1 [==============================] - 0s 46ms/step\n"
          ]
        }
      ]
    },
    {
      "cell_type": "code",
      "source": [
        "test_predictions"
      ],
      "metadata": {
        "colab": {
          "base_uri": "https://localhost:8080/"
        },
        "id": "5kNDl3JJfqV0",
        "outputId": "820dd253-8ac9-4989-96c6-7b04a5fc0e53"
      },
      "execution_count": 27,
      "outputs": [
        {
          "output_type": "execute_result",
          "data": {
            "text/plain": [
              "[array([0.1046256], dtype=float32),\n",
              " array([0.13060829], dtype=float32),\n",
              " array([0.14917019], dtype=float32),\n",
              " array([0.19633284], dtype=float32),\n",
              " array([0.16170213], dtype=float32),\n",
              " array([0.17067847], dtype=float32),\n",
              " array([0.16901976], dtype=float32),\n",
              " array([0.16185713], dtype=float32),\n",
              " array([0.17131248], dtype=float32),\n",
              " array([0.16263801], dtype=float32),\n",
              " array([0.09952393], dtype=float32),\n",
              " array([0.0975628], dtype=float32),\n",
              " array([0.09987818], dtype=float32),\n",
              " array([0.10582417], dtype=float32)]"
            ]
          },
          "metadata": {},
          "execution_count": 27
        }
      ]
    },
    {
      "cell_type": "code",
      "source": [
        "test.head()"
      ],
      "metadata": {
        "colab": {
          "base_uri": "https://localhost:8080/",
          "height": 238
        },
        "id": "AR9ukDHvfsIs",
        "outputId": "2f7c3462-d2e5-44af-a42c-8c9bc8ed72d3"
      },
      "execution_count": 28,
      "outputs": [
        {
          "output_type": "execute_result",
          "data": {
            "text/plain": [
              "                     Qty\n",
              "Transaction Date        \n",
              "2024-02-18 10:32:28    5\n",
              "2024-02-18 11:32:38   12\n",
              "2024-02-19 22:02:53   12\n",
              "2024-02-20 15:51:50   32\n",
              "2024-02-23 11:52:25    8"
            ],
            "text/html": [
              "\n",
              "  <div id=\"df-f9b4bc73-ed5f-4a06-97ac-914e673f5631\" class=\"colab-df-container\">\n",
              "    <div>\n",
              "<style scoped>\n",
              "    .dataframe tbody tr th:only-of-type {\n",
              "        vertical-align: middle;\n",
              "    }\n",
              "\n",
              "    .dataframe tbody tr th {\n",
              "        vertical-align: top;\n",
              "    }\n",
              "\n",
              "    .dataframe thead th {\n",
              "        text-align: right;\n",
              "    }\n",
              "</style>\n",
              "<table border=\"1\" class=\"dataframe\">\n",
              "  <thead>\n",
              "    <tr style=\"text-align: right;\">\n",
              "      <th></th>\n",
              "      <th>Qty</th>\n",
              "    </tr>\n",
              "    <tr>\n",
              "      <th>Transaction Date</th>\n",
              "      <th></th>\n",
              "    </tr>\n",
              "  </thead>\n",
              "  <tbody>\n",
              "    <tr>\n",
              "      <th>2024-02-18 10:32:28</th>\n",
              "      <td>5</td>\n",
              "    </tr>\n",
              "    <tr>\n",
              "      <th>2024-02-18 11:32:38</th>\n",
              "      <td>12</td>\n",
              "    </tr>\n",
              "    <tr>\n",
              "      <th>2024-02-19 22:02:53</th>\n",
              "      <td>12</td>\n",
              "    </tr>\n",
              "    <tr>\n",
              "      <th>2024-02-20 15:51:50</th>\n",
              "      <td>32</td>\n",
              "    </tr>\n",
              "    <tr>\n",
              "      <th>2024-02-23 11:52:25</th>\n",
              "      <td>8</td>\n",
              "    </tr>\n",
              "  </tbody>\n",
              "</table>\n",
              "</div>\n",
              "    <div class=\"colab-df-buttons\">\n",
              "\n",
              "  <div class=\"colab-df-container\">\n",
              "    <button class=\"colab-df-convert\" onclick=\"convertToInteractive('df-f9b4bc73-ed5f-4a06-97ac-914e673f5631')\"\n",
              "            title=\"Convert this dataframe to an interactive table.\"\n",
              "            style=\"display:none;\">\n",
              "\n",
              "  <svg xmlns=\"http://www.w3.org/2000/svg\" height=\"24px\" viewBox=\"0 -960 960 960\">\n",
              "    <path d=\"M120-120v-720h720v720H120Zm60-500h600v-160H180v160Zm220 220h160v-160H400v160Zm0 220h160v-160H400v160ZM180-400h160v-160H180v160Zm440 0h160v-160H620v160ZM180-180h160v-160H180v160Zm440 0h160v-160H620v160Z\"/>\n",
              "  </svg>\n",
              "    </button>\n",
              "\n",
              "  <style>\n",
              "    .colab-df-container {\n",
              "      display:flex;\n",
              "      gap: 12px;\n",
              "    }\n",
              "\n",
              "    .colab-df-convert {\n",
              "      background-color: #E8F0FE;\n",
              "      border: none;\n",
              "      border-radius: 50%;\n",
              "      cursor: pointer;\n",
              "      display: none;\n",
              "      fill: #1967D2;\n",
              "      height: 32px;\n",
              "      padding: 0 0 0 0;\n",
              "      width: 32px;\n",
              "    }\n",
              "\n",
              "    .colab-df-convert:hover {\n",
              "      background-color: #E2EBFA;\n",
              "      box-shadow: 0px 1px 2px rgba(60, 64, 67, 0.3), 0px 1px 3px 1px rgba(60, 64, 67, 0.15);\n",
              "      fill: #174EA6;\n",
              "    }\n",
              "\n",
              "    .colab-df-buttons div {\n",
              "      margin-bottom: 4px;\n",
              "    }\n",
              "\n",
              "    [theme=dark] .colab-df-convert {\n",
              "      background-color: #3B4455;\n",
              "      fill: #D2E3FC;\n",
              "    }\n",
              "\n",
              "    [theme=dark] .colab-df-convert:hover {\n",
              "      background-color: #434B5C;\n",
              "      box-shadow: 0px 1px 3px 1px rgba(0, 0, 0, 0.15);\n",
              "      filter: drop-shadow(0px 1px 2px rgba(0, 0, 0, 0.3));\n",
              "      fill: #FFFFFF;\n",
              "    }\n",
              "  </style>\n",
              "\n",
              "    <script>\n",
              "      const buttonEl =\n",
              "        document.querySelector('#df-f9b4bc73-ed5f-4a06-97ac-914e673f5631 button.colab-df-convert');\n",
              "      buttonEl.style.display =\n",
              "        google.colab.kernel.accessAllowed ? 'block' : 'none';\n",
              "\n",
              "      async function convertToInteractive(key) {\n",
              "        const element = document.querySelector('#df-f9b4bc73-ed5f-4a06-97ac-914e673f5631');\n",
              "        const dataTable =\n",
              "          await google.colab.kernel.invokeFunction('convertToInteractive',\n",
              "                                                    [key], {});\n",
              "        if (!dataTable) return;\n",
              "\n",
              "        const docLinkHtml = 'Like what you see? Visit the ' +\n",
              "          '<a target=\"_blank\" href=https://colab.research.google.com/notebooks/data_table.ipynb>data table notebook</a>'\n",
              "          + ' to learn more about interactive tables.';\n",
              "        element.innerHTML = '';\n",
              "        dataTable['output_type'] = 'display_data';\n",
              "        await google.colab.output.renderOutput(dataTable, element);\n",
              "        const docLink = document.createElement('div');\n",
              "        docLink.innerHTML = docLinkHtml;\n",
              "        element.appendChild(docLink);\n",
              "      }\n",
              "    </script>\n",
              "  </div>\n",
              "\n",
              "\n",
              "<div id=\"df-dd441947-3d58-419e-95f1-0716e5be2436\">\n",
              "  <button class=\"colab-df-quickchart\" onclick=\"quickchart('df-dd441947-3d58-419e-95f1-0716e5be2436')\"\n",
              "            title=\"Suggest charts\"\n",
              "            style=\"display:none;\">\n",
              "\n",
              "<svg xmlns=\"http://www.w3.org/2000/svg\" height=\"24px\"viewBox=\"0 0 24 24\"\n",
              "     width=\"24px\">\n",
              "    <g>\n",
              "        <path d=\"M19 3H5c-1.1 0-2 .9-2 2v14c0 1.1.9 2 2 2h14c1.1 0 2-.9 2-2V5c0-1.1-.9-2-2-2zM9 17H7v-7h2v7zm4 0h-2V7h2v10zm4 0h-2v-4h2v4z\"/>\n",
              "    </g>\n",
              "</svg>\n",
              "  </button>\n",
              "\n",
              "<style>\n",
              "  .colab-df-quickchart {\n",
              "      --bg-color: #E8F0FE;\n",
              "      --fill-color: #1967D2;\n",
              "      --hover-bg-color: #E2EBFA;\n",
              "      --hover-fill-color: #174EA6;\n",
              "      --disabled-fill-color: #AAA;\n",
              "      --disabled-bg-color: #DDD;\n",
              "  }\n",
              "\n",
              "  [theme=dark] .colab-df-quickchart {\n",
              "      --bg-color: #3B4455;\n",
              "      --fill-color: #D2E3FC;\n",
              "      --hover-bg-color: #434B5C;\n",
              "      --hover-fill-color: #FFFFFF;\n",
              "      --disabled-bg-color: #3B4455;\n",
              "      --disabled-fill-color: #666;\n",
              "  }\n",
              "\n",
              "  .colab-df-quickchart {\n",
              "    background-color: var(--bg-color);\n",
              "    border: none;\n",
              "    border-radius: 50%;\n",
              "    cursor: pointer;\n",
              "    display: none;\n",
              "    fill: var(--fill-color);\n",
              "    height: 32px;\n",
              "    padding: 0;\n",
              "    width: 32px;\n",
              "  }\n",
              "\n",
              "  .colab-df-quickchart:hover {\n",
              "    background-color: var(--hover-bg-color);\n",
              "    box-shadow: 0 1px 2px rgba(60, 64, 67, 0.3), 0 1px 3px 1px rgba(60, 64, 67, 0.15);\n",
              "    fill: var(--button-hover-fill-color);\n",
              "  }\n",
              "\n",
              "  .colab-df-quickchart-complete:disabled,\n",
              "  .colab-df-quickchart-complete:disabled:hover {\n",
              "    background-color: var(--disabled-bg-color);\n",
              "    fill: var(--disabled-fill-color);\n",
              "    box-shadow: none;\n",
              "  }\n",
              "\n",
              "  .colab-df-spinner {\n",
              "    border: 2px solid var(--fill-color);\n",
              "    border-color: transparent;\n",
              "    border-bottom-color: var(--fill-color);\n",
              "    animation:\n",
              "      spin 1s steps(1) infinite;\n",
              "  }\n",
              "\n",
              "  @keyframes spin {\n",
              "    0% {\n",
              "      border-color: transparent;\n",
              "      border-bottom-color: var(--fill-color);\n",
              "      border-left-color: var(--fill-color);\n",
              "    }\n",
              "    20% {\n",
              "      border-color: transparent;\n",
              "      border-left-color: var(--fill-color);\n",
              "      border-top-color: var(--fill-color);\n",
              "    }\n",
              "    30% {\n",
              "      border-color: transparent;\n",
              "      border-left-color: var(--fill-color);\n",
              "      border-top-color: var(--fill-color);\n",
              "      border-right-color: var(--fill-color);\n",
              "    }\n",
              "    40% {\n",
              "      border-color: transparent;\n",
              "      border-right-color: var(--fill-color);\n",
              "      border-top-color: var(--fill-color);\n",
              "    }\n",
              "    60% {\n",
              "      border-color: transparent;\n",
              "      border-right-color: var(--fill-color);\n",
              "    }\n",
              "    80% {\n",
              "      border-color: transparent;\n",
              "      border-right-color: var(--fill-color);\n",
              "      border-bottom-color: var(--fill-color);\n",
              "    }\n",
              "    90% {\n",
              "      border-color: transparent;\n",
              "      border-bottom-color: var(--fill-color);\n",
              "    }\n",
              "  }\n",
              "</style>\n",
              "\n",
              "  <script>\n",
              "    async function quickchart(key) {\n",
              "      const quickchartButtonEl =\n",
              "        document.querySelector('#' + key + ' button');\n",
              "      quickchartButtonEl.disabled = true;  // To prevent multiple clicks.\n",
              "      quickchartButtonEl.classList.add('colab-df-spinner');\n",
              "      try {\n",
              "        const charts = await google.colab.kernel.invokeFunction(\n",
              "            'suggestCharts', [key], {});\n",
              "      } catch (error) {\n",
              "        console.error('Error during call to suggestCharts:', error);\n",
              "      }\n",
              "      quickchartButtonEl.classList.remove('colab-df-spinner');\n",
              "      quickchartButtonEl.classList.add('colab-df-quickchart-complete');\n",
              "    }\n",
              "    (() => {\n",
              "      let quickchartButtonEl =\n",
              "        document.querySelector('#df-dd441947-3d58-419e-95f1-0716e5be2436 button');\n",
              "      quickchartButtonEl.style.display =\n",
              "        google.colab.kernel.accessAllowed ? 'block' : 'none';\n",
              "    })();\n",
              "  </script>\n",
              "</div>\n",
              "\n",
              "    </div>\n",
              "  </div>\n"
            ],
            "application/vnd.google.colaboratory.intrinsic+json": {
              "type": "dataframe",
              "variable_name": "test",
              "summary": "{\n  \"name\": \"test\",\n  \"rows\": 14,\n  \"fields\": [\n    {\n      \"column\": \"Transaction Date\",\n      \"properties\": {\n        \"dtype\": \"date\",\n        \"min\": \"2024-02-18 10:32:28\",\n        \"max\": \"2024-03-05 14:12:36\",\n        \"num_unique_values\": 14,\n        \"samples\": [\n          \"2024-03-02 12:22:41\",\n          \"2024-03-02 16:23:00\",\n          \"2024-02-18 10:32:28\"\n        ],\n        \"semantic_type\": \"\",\n        \"description\": \"\"\n      }\n    },\n    {\n      \"column\": \"Qty\",\n      \"properties\": {\n        \"dtype\": \"number\",\n        \"std\": 9,\n        \"min\": 5,\n        \"max\": 32,\n        \"num_unique_values\": 7,\n        \"samples\": [\n          5,\n          12,\n          16\n        ],\n        \"semantic_type\": \"\",\n        \"description\": \"\"\n      }\n    }\n  ]\n}"
            }
          },
          "metadata": {},
          "execution_count": 28
        }
      ]
    },
    {
      "cell_type": "code",
      "source": [
        "true_predictions = scaler.inverse_transform(test_predictions)"
      ],
      "metadata": {
        "id": "QLS---axfx_3"
      },
      "execution_count": 29,
      "outputs": []
    },
    {
      "cell_type": "code",
      "source": [
        "test['Predictions'] = true_predictions"
      ],
      "metadata": {
        "colab": {
          "base_uri": "https://localhost:8080/"
        },
        "id": "5tWfy6c3f1Cx",
        "outputId": "2f97a9e3-f07b-4db9-de7b-43564bae9c8c"
      },
      "execution_count": 30,
      "outputs": [
        {
          "output_type": "stream",
          "name": "stderr",
          "text": [
            "<ipython-input-30-920b79c3c314>:1: SettingWithCopyWarning: \n",
            "A value is trying to be set on a copy of a slice from a DataFrame.\n",
            "Try using .loc[row_indexer,col_indexer] = value instead\n",
            "\n",
            "See the caveats in the documentation: https://pandas.pydata.org/pandas-docs/stable/user_guide/indexing.html#returning-a-view-versus-a-copy\n",
            "  test['Predictions'] = true_predictions\n"
          ]
        }
      ]
    },
    {
      "cell_type": "code",
      "source": [
        "test.plot(figsize=(14,5))"
      ],
      "metadata": {
        "colab": {
          "base_uri": "https://localhost:8080/",
          "height": 475
        },
        "id": "xUwANpiUf2qQ",
        "outputId": "bfcc1546-41ce-4062-882b-bd63db1b062e"
      },
      "execution_count": 31,
      "outputs": [
        {
          "output_type": "execute_result",
          "data": {
            "text/plain": [
              "<Axes: xlabel='Transaction Date'>"
            ]
          },
          "metadata": {},
          "execution_count": 31
        },
        {
          "output_type": "display_data",
          "data": {
            "text/plain": [
              "<Figure size 1400x500 with 1 Axes>"
            ],
            "image/png": "[encoded data removed]"
          },
          "metadata": {}
        }
      ]
    },
    {
      "cell_type": "code",
      "source": [
        "from sklearn.metrics import mean_squared_error\n",
        "from math import sqrt\n",
        "rmse=sqrt(mean_squared_error(test['Qty'],test['Predictions']))\n",
        "print(rmse)\n"
      ],
      "metadata": {
        "colab": {
          "base_uri": "https://localhost:8080/"
        },
        "id": "RsBqasY1gBBn",
        "outputId": "84cf0077-069d-4f56-fd2c-8cb26a06b133"
      },
      "execution_count": 32,
      "outputs": [
        {
          "output_type": "stream",
          "name": "stdout",
          "text": [
            "8.074907141698617\n"
          ]
        }
      ]
    },
    {
      "cell_type": "code",
      "source": [
        "# prompt: how do i predict future values with this\n",
        "\n",
        "import pandas as pd\n",
        "import matplotlib.pyplot as plt\n",
        "import numpy as np\n",
        "# Forecast the next 1 months\n",
        "forecast = []\n",
        "last_test_batch = scaled_test[-n_input:]\n",
        "last_test_batch = last_test_batch.reshape((1, n_input, n_features))\n",
        "\n",
        "for i in range(30):\n",
        "    current_pred = model.predict(last_test_batch)[0]\n",
        "    forecast.append(current_pred)\n",
        "    last_test_batch = np.append(last_test_batch[:,1:,:],[[current_pred]],axis=1)\n",
        "\n",
        "# Inverse transform the forecast values\n",
        "forecast_inverse = scaler.inverse_transform(forecast)\n",
        "\n",
        "# Create a new dataframe with the forecast values\n",
        "forecast_df = pd.DataFrame(forecast_inverse, index=pd.date_range(start=test.index[-1], periods=30))\n",
        "\n",
        "# Plot the forecast values\n",
        "plt.plot(df['Qty'], label='Actual')\n",
        "plt.plot(forecast_df, label='Forecast')\n",
        "plt.legend()\n",
        "print(forecast_df)\n",
        "plt.show()\n"
      ],
      "metadata": {
        "colab": {
          "base_uri": "https://localhost:8080/",
          "height": 1000
        },
        "id": "cW1jD_Zhgz-o",
        "outputId": "14bf033e-62f4-48e9-c9dc-0a2696d8686f"
      },
      "execution_count": 33,
      "outputs": [
        {
          "output_type": "stream",
          "name": "stdout",
          "text": [
            "1/1 [==============================] - 0s 39ms/step\n",
            "1/1 [==============================] - 0s 41ms/step\n",
            "1/1 [==============================] - 0s 38ms/step\n",
            "1/1 [==============================] - 0s 35ms/step\n",
            "1/1 [==============================] - 0s 40ms/step\n",
            "1/1 [==============================] - 0s 39ms/step\n",
            "1/1 [==============================] - 0s 38ms/step\n",
            "1/1 [==============================] - 0s 44ms/step\n",
            "1/1 [==============================] - 0s 39ms/step\n",
            "1/1 [==============================] - 0s 26ms/step\n",
            "1/1 [==============================] - 0s 25ms/step\n",
            "1/1 [==============================] - 0s 24ms/step\n",
            "1/1 [==============================] - 0s 28ms/step\n",
            "1/1 [==============================] - 0s 23ms/step\n",
            "1/1 [==============================] - 0s 23ms/step\n",
            "1/1 [==============================] - 0s 26ms/step\n",
            "1/1 [==============================] - 0s 23ms/step\n",
            "1/1 [==============================] - 0s 25ms/step\n",
            "1/1 [==============================] - 0s 35ms/step\n",
            "1/1 [==============================] - 0s 23ms/step\n",
            "1/1 [==============================] - 0s 28ms/step\n",
            "1/1 [==============================] - 0s 26ms/step\n",
            "1/1 [==============================] - 0s 25ms/step\n",
            "1/1 [==============================] - 0s 23ms/step\n",
            "1/1 [==============================] - 0s 22ms/step\n",
            "1/1 [==============================] - 0s 23ms/step\n",
            "1/1 [==============================] - 0s 23ms/step\n",
            "1/1 [==============================] - 0s 23ms/step\n",
            "1/1 [==============================] - 0s 27ms/step\n",
            "1/1 [==============================] - 0s 29ms/step\n",
            "                             0\n",
            "2024-03-05 14:12:36  17.501598\n",
            "2024-03-06 14:12:36  19.924391\n",
            "2024-03-07 14:12:36  19.092802\n",
            "2024-03-08 14:12:36  22.509577\n",
            "2024-03-09 14:12:36  23.163666\n",
            "2024-03-10 14:12:36  22.717147\n",
            "2024-03-11 14:12:36  22.985542\n",
            "2024-03-12 14:12:36  20.040487\n",
            "2024-03-13 14:12:36  15.922639\n",
            "2024-03-14 14:12:36  15.816021\n",
            "2024-03-15 14:12:36  15.937733\n",
            "2024-03-16 14:12:36  15.891721\n",
            "2024-03-17 14:12:36  15.433841\n",
            "2024-03-18 14:12:36  16.329392\n",
            "2024-03-19 14:12:36  18.202332\n",
            "2024-03-20 14:12:36  19.749928\n",
            "2024-03-21 14:12:36  20.996561\n",
            "2024-03-22 14:12:36  19.995215\n",
            "2024-03-23 14:12:36  18.468553\n",
            "2024-03-24 14:12:36  16.710800\n",
            "2024-03-25 14:12:36  15.791100\n",
            "2024-03-26 14:12:36  15.768952\n",
            "2024-03-27 14:12:36  15.888911\n",
            "2024-03-28 14:12:36  16.112066\n",
            "2024-03-29 14:12:36  16.402101\n",
            "2024-03-30 14:12:36  16.816930\n",
            "2024-03-31 14:12:36  17.844033\n",
            "2024-04-01 14:12:36  18.874663\n",
            "2024-04-02 14:12:36  18.554595\n",
            "2024-04-03 14:12:36  17.902642\n"
          ]
        },
        {
          "output_type": "display_data",
          "data": {
            "text/plain": [
              "<Figure size 640x480 with 1 Axes>"
            ],
            "image/png": "[encoded data removed]"
          },
          "metadata": {}
        }
      ]
    }
  ]
}